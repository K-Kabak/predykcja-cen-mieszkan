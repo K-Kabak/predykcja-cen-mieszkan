{
 "cells": [
  {
   "cell_type": "markdown",
   "id": "0d0ffe97",
   "metadata": {},
   "source": [
    "# Projekt ML: Przewidywanie cen mieszkań (California Housing)\n",
    "**Typ projektu:** Uczenie maszynowe\n",
    "\n",
    "**Zadanie:** Predykcja cen mieszkań na podstawie cech nieruchomości przy użyciu modelu Random Forest.\n",
    "**Zbiór danych:** California Housing Dataset\n",
    "**Algorytm:** Random Forest Regressor"
   ]
  },
  {
   "cell_type": "code",
   "execution_count": null,
   "id": "5ea8b7e8",
   "metadata": {},
   "outputs": [],
   "source": [
    "import pandas as pd\n",
    "import numpy as np\n",
    "import matplotlib.pyplot as plt\n",
    "import seaborn as sns\n",
    "\n",
    "from sklearn.datasets import fetch_california_housing\n",
    "from sklearn.model_selection import train_test_split\n",
    "from sklearn.preprocessing import StandardScaler\n",
    "from sklearn.ensemble import RandomForestRegressor\n",
    "from sklearn.metrics import mean_absolute_error, r2_score\n",
    "\n",
    "# Wczytanie zbioru danych\n",
    "housing = fetch_california_housing()\n",
    "df = pd.DataFrame(housing.data, columns=housing.feature_names)\n",
    "df['MedHouseVal'] = housing.target\n",
    "df.head()"
   ]
  },
  {
   "cell_type": "markdown",
   "id": "20ca9ab2",
   "metadata": {},
   "source": [
    "## Wizualizacja danych – Macierz korelacji"
   ]
  },
  {
   "cell_type": "code",
   "execution_count": null,
   "id": "7f14d423",
   "metadata": {},
   "outputs": [],
   "source": [
    "plt.figure(figsize=(12, 8))\n",
    "sns.heatmap(df.corr(), annot=True, fmt='.2f', cmap='coolwarm')\n",
    "plt.title('Macierz korelacji cech (California Housing)')\n",
    "plt.tight_layout()\n",
    "plt.show()"
   ]
  },
  {
   "cell_type": "markdown",
   "id": "9e21fd93",
   "metadata": {},
   "source": [
    "## Przygotowanie danych do uczenia"
   ]
  },
  {
   "cell_type": "code",
   "execution_count": null,
   "id": "9446702a",
   "metadata": {},
   "outputs": [],
   "source": [
    "X = df.drop('MedHouseVal', axis=1)\n",
    "y = df['MedHouseVal']\n",
    "\n",
    "X_train, X_test, y_train, y_test = train_test_split(X, y, test_size=0.2, random_state=42)\n",
    "scaler = StandardScaler()\n",
    "X_train_scaled = scaler.fit_transform(X_train)\n",
    "X_test_scaled = scaler.transform(X_test)"
   ]
  },
  {
   "cell_type": "markdown",
   "id": "e3e91fad",
   "metadata": {},
   "source": [
    "## Trenowanie modelu – Random Forest"
   ]
  },
  {
   "cell_type": "code",
   "execution_count": null,
   "id": "b966e230",
   "metadata": {},
   "outputs": [],
   "source": [
    "model = RandomForestRegressor(random_state=42)\n",
    "model.fit(X_train_scaled, y_train)"
   ]
  },
  {
   "cell_type": "markdown",
   "id": "831eed97",
   "metadata": {},
   "source": [
    "## Predykcja i wizualizacja wyników"
   ]
  },
  {
   "cell_type": "code",
   "execution_count": null,
   "id": "353ba0a5",
   "metadata": {},
   "outputs": [],
   "source": [
    "y_pred = model.predict(X_test_scaled)\n",
    "\n",
    "plt.figure(figsize=(8, 6))\n",
    "sns.scatterplot(x=y_test, y=y_pred)\n",
    "plt.xlabel('Wartości rzeczywiste (MedHouseVal)')\n",
    "plt.ylabel('Wartości przewidywane')\n",
    "plt.title('Porównanie rzeczywistych i przewidywanych cen mieszkań')\n",
    "plt.tight_layout()\n",
    "plt.show()"
   ]
  },
  {
   "cell_type": "markdown",
   "id": "5066f6c9",
   "metadata": {},
   "source": [
    "## Metryki jakości modelu"
   ]
  },
  {
   "cell_type": "code",
   "execution_count": null,
   "id": "623a4006",
   "metadata": {},
   "outputs": [],
   "source": [
    "mae = mean_absolute_error(y_test, y_pred)\n",
    "r2 = r2_score(y_test, y_pred)\n",
    "print(f'Mean Absolute Error (MAE): {mae:.2f}')\n",
    "print(f'R² Score: {r2:.2f}')"
   ]
  },
  {
   "cell_type": "markdown",
   "id": "8dc1aa8f",
   "metadata": {},
   "source": [
    "## Podsumowanie\n",
    "- Zastosowano model Random Forest, który dobrze radzi sobie z danymi tabelarycznymi i nieliniowymi zależnościami.\n",
    "- Zbiór danych California Housing zawiera cechy takie jak średni dochód, liczba pokoi, lokalizacja itp.\n",
    "- Otrzymano dobre wyniki metryk MAE i R², co świadczy o dopasowaniu modelu.\n",
    "- Możliwe dalsze usprawnienia: tuning hiperparametrów, porównanie z innymi modelami."
   ]
  }
 ],
 "metadata": {},
 "nbformat": 4,
 "nbformat_minor": 5
}
